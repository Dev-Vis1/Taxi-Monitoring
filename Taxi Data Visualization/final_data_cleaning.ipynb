{
 "cells": [
  {
   "cell_type": "code",
   "execution_count": 45,
   "id": "9d4a82a3",
   "metadata": {},
   "outputs": [],
   "source": [
    "#load only taxi_534.txt dataset\n",
    "import os\n",
    "import sys\n",
    "import pandas as pd\n",
    "import numpy as np\n",
    "import matplotlib.pyplot as plt\n",
    "import seaborn as sns\n",
    "# Set the path to the dataset\n"
   ]
  },
  {
   "cell_type": "code",
   "execution_count": 46,
   "id": "9e036a53",
   "metadata": {},
   "outputs": [],
   "source": [
    "dataset_path = 'taxi_6211.txt'\n",
    "# Check if the dataset exists\n",
    "if not os.path.exists(dataset_path):\n",
    "    print(f\"Dataset {dataset_path} not found.\")\n",
    "    sys.exit(1)"
   ]
  },
  {
   "cell_type": "code",
   "execution_count": 47,
   "id": "528530dc",
   "metadata": {},
   "outputs": [],
   "source": [
    "# Load the data\n",
    "df = pd.read_csv('taxi_6211.txt', sep='\\t')\n",
    "df['timestamp'] = pd.to_datetime(df['timestamp'])\n",
    "df = df.sort_values('timestamp').reset_index(drop=True)\n",
    "\n",
    "# For consecutive rows, if latitude and longitude are the same, keep only the first one\n",
    "df = df.loc[(df['latitude'] != df['latitude'].shift()) | (df['longitude'] != df['longitude'].shift())].reset_index(drop=True)"
   ]
  },
  {
   "cell_type": "code",
   "execution_count": 48,
   "id": "b6e37e34",
   "metadata": {},
   "outputs": [
    {
     "name": "stdout",
     "output_type": "stream",
     "text": [
      "Removed 47 spike rows (sudden jump and return).\n"
     ]
    }
   ],
   "source": [
    "from geopy.distance import geodesic\n",
    "\n",
    "def distance_km(lat1, lon1, lat2, lon2):\n",
    "    return geodesic((lat1, lon1), (lat2, lon2)).km\n",
    "\n",
    "spike_remove = []\n",
    "threshold_km = 0.5  # adjust as needed for your data (e.g., 0.5 km)\n",
    "\n",
    "for i in range(1, len(df) - 1):\n",
    "    prev = df.iloc[i - 1]\n",
    "    curr = df.iloc[i]\n",
    "    next_ = df.iloc[i + 1]\n",
    "    dist_prev_next = distance_km(prev['latitude'], prev['longitude'], next_['latitude'], next_['longitude'])\n",
    "    dist_prev_curr = distance_km(prev['latitude'], prev['longitude'], curr['latitude'], curr['longitude'])\n",
    "    dist_curr_next = distance_km(curr['latitude'], curr['longitude'], next_['latitude'], next_['longitude'])\n",
    "    # If prev and next are close, but curr is far from both, remove curr\n",
    "    if dist_prev_next < threshold_km and dist_prev_curr > threshold_km and dist_curr_next > threshold_km:\n",
    "        spike_remove.append(i)\n",
    "\n",
    "df_spike_cleaned = df.drop(index=spike_remove).reset_index(drop=True)\n",
    "print(f\"Removed {len(spike_remove)} spike rows (sudden jump and return).\")\n",
    "df_spike_cleaned.to_csv('taxi_6211_spike_cleaned.txt', sep='\\t', index=False)"
   ]
  },
  {
   "cell_type": "code",
   "execution_count": 49,
   "id": "7441c050",
   "metadata": {},
   "outputs": [
    {
     "name": "stdout",
     "output_type": "stream",
     "text": [
      "[443, 453, 2219, 2234, 2379, 3359, 3758, 3839, 4676, 5456, 6519, 6905, 6988, 7952, 9077, 9590, 10208, 10679, 10796, 10889, 11224, 11792, 12235, 12634, 12999, 13774, 15709, 16060, 16101, 16288, 18212, 18295, 19020, 20175, 20210, 21154, 23487, 24931, 25068, 25945, 26978, 27092, 28183, 30207, 30262, 30266, 30944]\n"
     ]
    }
   ],
   "source": [
    "print(spike_remove)"
   ]
  },
  {
   "cell_type": "code",
   "execution_count": 50,
   "id": "c27e39db",
   "metadata": {},
   "outputs": [
    {
     "name": "stdout",
     "output_type": "stream",
     "text": [
      "Row 75 from original dataframe:\n",
      "taxiId                      6211\n",
      "timestamp    2008-02-02 14:18:31\n",
      "longitude              108.94395\n",
      "latitude                28.46873\n",
      "Name: 443, dtype: object\n"
     ]
    }
   ],
   "source": [
    "#print row 75 from original dataframe\n",
    "print(\"Row 75 from original dataframe:\")\n",
    "print(df.iloc[443])\n",
    "# Print the cleaned dataframe"
   ]
  },
  {
   "cell_type": "code",
   "execution_count": 51,
   "id": "6b2ad38a",
   "metadata": {},
   "outputs": [],
   "source": [
    "def is_possible_move(lat1, lon1, t1, lat2, lon2, t2, max_speed_kmh=200):\n",
    "    dist_km = geodesic((lat1, lon1), (lat2, lon2)).km\n",
    "    time_h = abs((t2 - t1).total_seconds()) / 3600\n",
    "    if time_h == 0:\n",
    "        return dist_km == 0\n",
    "    speed = dist_km / time_h\n",
    "    return speed <= max_speed_kmh\n",
    "\n",
    "\n",
    "\n",
    "# Check for any remaining impossible moves in the cleaned dataframe\n",
    "impossible_moves = []\n",
    "for i in range(1, len(df_spike_cleaned)):\n",
    "    prev = df_spike_cleaned.iloc[i - 1]\n",
    "    curr = df_spike_cleaned.iloc[i]\n",
    "    if not is_possible_move(prev['latitude'], prev['longitude'], prev['timestamp'],\n",
    "                            curr['latitude'], curr['longitude'], curr['timestamp']):\n",
    "        impossible_moves.append((i - 1, i))\n"
   ]
  },
  {
   "cell_type": "code",
   "execution_count": 52,
   "id": "065b6a51",
   "metadata": {},
   "outputs": [
    {
     "name": "stdout",
     "output_type": "stream",
     "text": [
      "[(4602, 4603), (6221, 6222), (9757, 9758), (9758, 9759), (11990, 11991), (11991, 11992), (12069, 12070), (13325, 13326), (17183, 17184), (17184, 17185), (17276, 17277), (17278, 17279), (17280, 17281), (22676, 22677), (22677, 22678), (22698, 22699), (22793, 22794), (22795, 22796), (29693, 29694), (29694, 29695), (29781, 29782), (29783, 29784), (29785, 29786), (30978, 30979), (30979, 30980)]\n"
     ]
    }
   ],
   "source": [
    "print(impossible_moves)"
   ]
  },
  {
   "cell_type": "code",
   "execution_count": 53,
   "id": "4c2a28d3",
   "metadata": {},
   "outputs": [
    {
     "data": {
      "text/plain": [
       "taxiId                      6211\n",
       "timestamp    2008-02-03 13:00:12\n",
       "longitude              116.26726\n",
       "latitude                40.08606\n",
       "Name: 4602, dtype: object"
      ]
     },
     "execution_count": 53,
     "metadata": {},
     "output_type": "execute_result"
    }
   ],
   "source": [
    "df_spike_cleaned.iloc[4602]"
   ]
  },
  {
   "cell_type": "code",
   "execution_count": null,
   "id": "6a229e70",
   "metadata": {},
   "outputs": [],
   "source": []
  }
 ],
 "metadata": {
  "kernelspec": {
   "display_name": ".venv",
   "language": "python",
   "name": "python3"
  },
  "language_info": {
   "codemirror_mode": {
    "name": "ipython",
    "version": 3
   },
   "file_extension": ".py",
   "mimetype": "text/x-python",
   "name": "python",
   "nbconvert_exporter": "python",
   "pygments_lexer": "ipython3",
   "version": "3.13.3"
  }
 },
 "nbformat": 4,
 "nbformat_minor": 5
}
