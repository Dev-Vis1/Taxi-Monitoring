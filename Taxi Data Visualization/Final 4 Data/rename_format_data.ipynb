{
 "cells": [
  {
   "cell_type": "code",
   "execution_count": null,
   "id": "2d2b89b7",
   "metadata": {},
   "outputs": [
    {
     "name": "stderr",
     "output_type": "stream",
     "text": [
      "C:\\Users\\atomi\\AppData\\Local\\Temp\\ipykernel_37500\\2353017215.py:12: FutureWarning: The 'delim_whitespace' keyword in pd.read_csv is deprecated and will be removed in a future version. Use ``sep='\\s+'`` instead\n",
      "  df = pd.read_csv(filename, delim_whitespace=True, header=None)\n",
      "C:\\Users\\atomi\\AppData\\Local\\Temp\\ipykernel_37500\\2353017215.py:12: FutureWarning: The 'delim_whitespace' keyword in pd.read_csv is deprecated and will be removed in a future version. Use ``sep='\\s+'`` instead\n",
      "  df = pd.read_csv(filename, delim_whitespace=True, header=None)\n"
     ]
    },
    {
     "name": "stdout",
     "output_type": "stream",
     "text": [
      "0    39.8768\n",
      "1    39.8772\n",
      "Name: 4, dtype: float64\n",
      "0    39.98036\n",
      "1    39.98036\n",
      "Name: 4, dtype: float64\n",
      "0    39.95873\n",
      "1    39.95873\n",
      "Name: 4, dtype: float64\n",
      "0    39.84351\n",
      "1    39.84353\n",
      "Name: 4, dtype: float64\n"
     ]
    },
    {
     "name": "stderr",
     "output_type": "stream",
     "text": [
      "C:\\Users\\atomi\\AppData\\Local\\Temp\\ipykernel_37500\\2353017215.py:12: FutureWarning: The 'delim_whitespace' keyword in pd.read_csv is deprecated and will be removed in a future version. Use ``sep='\\s+'`` instead\n",
      "  df = pd.read_csv(filename, delim_whitespace=True, header=None)\n",
      "C:\\Users\\atomi\\AppData\\Local\\Temp\\ipykernel_37500\\2353017215.py:12: FutureWarning: The 'delim_whitespace' keyword in pd.read_csv is deprecated and will be removed in a future version. Use ``sep='\\s+'`` instead\n",
      "  df = pd.read_csv(filename, delim_whitespace=True, header=None)\n"
     ]
    }
   ],
   "source": [
    "import os\n",
    "import pandas as pd\n",
    "\n",
    "for filename in os.listdir():\n",
    "    if filename.endswith('.txt') and filename.startswith('taxi_'):\n",
    "        # Read the file, skipping the header\n",
    "        df = pd.read_csv(filename, delim_whitespace=True, header=None)\n",
    "     \n",
    "        df['timestamp'] = df.iloc[:,1] + ' ' + df.iloc[:,2]\n",
    "        df = df[[df.columns[0], 'timestamp', df.columns[3], df.columns[4]]]\n",
    "        df.columns = ['taxiId', 'timestamp', 'longitude', 'latitude']\n",
    "        \n",
    "        new_filename = filename.replace('taxi_', '')\n",
    "        # Save with comma separator and no index or header\n",
    "        df.to_csv(new_filename, index=False, header=False, sep=',')\n",
    "    \n",
    "\n",
    "    "
   ]
  },
  {
   "cell_type": "code",
   "execution_count": null,
   "id": "112df75f",
   "metadata": {},
   "outputs": [],
   "source": []
  }
 ],
 "metadata": {
  "kernelspec": {
   "display_name": ".venv",
   "language": "python",
   "name": "python3"
  },
  "language_info": {
   "codemirror_mode": {
    "name": "ipython",
    "version": 3
   },
   "file_extension": ".py",
   "mimetype": "text/x-python",
   "name": "python",
   "nbconvert_exporter": "python",
   "pygments_lexer": "ipython3",
   "version": "3.13.3"
  }
 },
 "nbformat": 4,
 "nbformat_minor": 5
}
